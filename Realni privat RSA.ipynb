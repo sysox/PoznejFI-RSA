{
 "cells": [
  {
   "cell_type": "code",
   "execution_count": 84,
   "metadata": {},
   "outputs": [],
   "source": [
    "p,q,N=(127340830586769176721334819845726997502853748057585590993738371736084973059657606170384335328335431056327010702868031792130429206781973867305307374805674831238411313603680441895298848420108007205445862795267084350636973318060917173366045692107912702759340599676494756692560070409227147048629268835579951412053,\n",
    " 154829881187598732638086336281897003928921535419291537818055077405083024446850552729355026919157910036091384075767381558073928343954096130256937044845168431578905928566318705292729565710627676730126778968732976098776492969330286928744263043139226649725373424396722321249925862336730757093841033843874649484823,\n",
    " 19716165670079610237391397895681951604444593787193671699281645381343906400174421547335849964542201278490063733150407079625149567744815764673747270176522030530722397690471059593820844727474251670880942643998936200607748629005315466607841178899084372628592634028116820250645414505955875708956615488125046234568016338318575735109689582063051436417141781137645456212695687776105333239472485788613008669543532256738280272896627860618175275903191912754681915005564539674185745824079885066822608715617215606435368053258918984792039352314934751196486231603113540154362460512554631594976702201498692027120384704658527842771619)"
   ]
  },
  {
   "cell_type": "code",
   "execution_count": 73,
   "metadata": {},
   "outputs": [],
   "source": [
    "from cryptography.hazmat.primitives import serialization\n",
    "from cryptography.hazmat.primitives.asymmetric import rsa\n",
    "from cryptography.hazmat.backends import default_backend\n",
    "import math\n",
    "\n",
    "def gcd(a,b):\n",
    "    \"\"\"Compute the greatest common divisor of a and b\"\"\"\n",
    "    while b > 0:\n",
    "        a, b = b, a % b\n",
    "    return a\n",
    "    \n",
    "def lcm(a, b):\n",
    "    \"\"\"Compute the lowest common multiple of a and b\"\"\"\n",
    "    return a * b // gcd(a, b)\n",
    "\n",
    "\n",
    "def extended_gcd(aa, bb):\n",
    "    lastremainder, remainder = abs(aa), abs(bb)\n",
    "    x, lastx, y, lasty = 0, 1, 1, 0\n",
    "    while remainder:\n",
    "        lastremainder, (quotient, remainder) = remainder, divmod(lastremainder, remainder)\n",
    "        x, lastx = lastx - quotient*x, x\n",
    "        y, lasty = lasty - quotient*y, y\n",
    "    return lastremainder, lastx * (-1 if aa < 0 else 1), lasty * (-1 if bb < 0 else 1)\n",
    "\n",
    "\n",
    "def modinv(a, m):\n",
    "    g, x, y = extended_gcd(a, m)\n",
    "    if g != 1:\n",
    "        raise ValueError('modinv for %s does not exist %s' % (a, g))\n",
    "    return x % m"
   ]
  },
  {
   "cell_type": "code",
   "execution_count": 85,
   "metadata": {},
   "outputs": [],
   "source": [
    "iqmp = rsa.rsa_crt_iqmp(p, q)"
   ]
  },
  {
   "cell_type": "code",
   "execution_count": 86,
   "metadata": {},
   "outputs": [],
   "source": [
    "e = 0x10001"
   ]
  },
  {
   "cell_type": "code",
   "execution_count": 87,
   "metadata": {},
   "outputs": [],
   "source": [
    "pn = lcm((p-1),(q-1))"
   ]
  },
  {
   "cell_type": "code",
   "execution_count": 88,
   "metadata": {},
   "outputs": [],
   "source": [
    "d = modinv(e, pn)"
   ]
  },
  {
   "cell_type": "code",
   "execution_count": 89,
   "metadata": {},
   "outputs": [],
   "source": [
    "assert (d*e) % pn == 1"
   ]
  },
  {
   "cell_type": "code",
   "execution_count": 93,
   "metadata": {},
   "outputs": [],
   "source": [
    "dmp1, dmq1 = d % (p-1), d % (q-1)"
   ]
  },
  {
   "cell_type": "code",
   "execution_count": 94,
   "metadata": {},
   "outputs": [],
   "source": [
    "pub = rsa.RSAPublicNumbers(e, N)"
   ]
  },
  {
   "cell_type": "code",
   "execution_count": 95,
   "metadata": {},
   "outputs": [],
   "source": [
    "priv = rsa.RSAPrivateNumbers(p, q, d, dmp1, dmq1, iqmp, pub)"
   ]
  },
  {
   "cell_type": "code",
   "execution_count": 109,
   "metadata": {},
   "outputs": [],
   "source": [
    "from Crypto.PublicKey import RSA\n",
    "\n",
    "k = RSA.construct((N, e, d, p, q), True)\n",
    "priv_pem = k.exportKey()\n",
    "pub_ssh = k.exportKey('OpenSSH')\n",
    "pub_pem = k.publickey().exportKey()"
   ]
  },
  {
   "cell_type": "code",
   "execution_count": 113,
   "metadata": {},
   "outputs": [
    {
     "data": {
      "text/plain": [
       "1674"
      ]
     },
     "execution_count": 113,
     "metadata": {},
     "output_type": "execute_result"
    }
   ],
   "source": [
    "open('Jan_pub.pem', 'wb').write(pub_pem)\n",
    "open('Jan_pub.ssh', 'wb').write(pub_ssh)\n",
    "open('Jan_priv.pem', 'wb').write(priv_pem)\n"
   ]
  }
 ],
 "metadata": {
  "kernelspec": {
   "display_name": "Python 3",
   "language": "python",
   "name": "python3"
  },
  "language_info": {
   "codemirror_mode": {
    "name": "ipython",
    "version": 3
   },
   "file_extension": ".py",
   "mimetype": "text/x-python",
   "name": "python",
   "nbconvert_exporter": "python",
   "pygments_lexer": "ipython3",
   "version": "3.6.7"
  }
 },
 "nbformat": 4,
 "nbformat_minor": 2
}
